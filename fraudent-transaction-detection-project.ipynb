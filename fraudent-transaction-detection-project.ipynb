{
 "cells": [
  {
   "cell_type": "markdown",
   "id": "9b000925",
   "metadata": {
    "_cell_guid": "b1076dfc-b9ad-4769-8c92-a6c4dae69d19",
    "_uuid": "8f2839f25d086af736a60e9eeb907d3b93b6e0e5",
    "execution": {
     "iopub.execute_input": "2022-10-11T10:18:42.229437Z",
     "iopub.status.busy": "2022-10-11T10:18:42.228876Z",
     "iopub.status.idle": "2022-10-11T10:18:43.863092Z",
     "shell.execute_reply": "2022-10-11T10:18:43.861398Z",
     "shell.execute_reply.started": "2022-10-11T10:18:42.229334Z"
    },
    "papermill": {
     "duration": 0.013807,
     "end_time": "2022-10-11T11:52:08.284549",
     "exception": false,
     "start_time": "2022-10-11T11:52:08.270742",
     "status": "completed"
    },
    "tags": []
   },
   "source": [
    "# Fraud Detection Assignment"
   ]
  },
  {
   "cell_type": "markdown",
   "id": "3ecbc000",
   "metadata": {
    "papermill": {
     "duration": 0.013811,
     "end_time": "2022-10-11T11:52:08.311127",
     "exception": false,
     "start_time": "2022-10-11T11:52:08.297316",
     "status": "completed"
    },
    "tags": []
   },
   "source": [
    "## Motivation"
   ]
  },
  {
   "cell_type": "markdown",
   "id": "1c3074f5",
   "metadata": {
    "papermill": {
     "duration": 0.012194,
     "end_time": "2022-10-11T11:52:08.335996",
     "exception": false,
     "start_time": "2022-10-11T11:52:08.323802",
     "status": "completed"
    },
    "tags": []
   },
   "source": [
    "### It is important that financial companies are able to recognize fraudulent transactions so that customers are not charged for items that they did not purchase. In this assignment we will be implementing anamoly detection to detect whether there is any fraudulent transaction. "
   ]
  },
  {
   "cell_type": "markdown",
   "id": "25e34d13",
   "metadata": {
    "papermill": {
     "duration": 0.012036,
     "end_time": "2022-10-11T11:52:08.360375",
     "exception": false,
     "start_time": "2022-10-11T11:52:08.348339",
     "status": "completed"
    },
    "tags": []
   },
   "source": [
    "## Outlier Detection"
   ]
  },
  {
   "cell_type": "markdown",
   "id": "7749d39b",
   "metadata": {
    "papermill": {
     "duration": 0.012231,
     "end_time": "2022-10-11T11:52:08.385106",
     "exception": false,
     "start_time": "2022-10-11T11:52:08.372875",
     "status": "completed"
    },
    "tags": []
   },
   "source": [
    "### Outlier Detection aka Anomaly Detection is a step in data mining that identifies data points, events and/or observations that deviate from a dataset's normal behaviour."
   ]
  },
  {
   "cell_type": "markdown",
   "id": "c43f88a4",
   "metadata": {
    "papermill": {
     "duration": 0.012011,
     "end_time": "2022-10-11T11:52:08.409565",
     "exception": false,
     "start_time": "2022-10-11T11:52:08.397554",
     "status": "completed"
    },
    "tags": []
   },
   "source": [
    "## Importing libraries"
   ]
  },
  {
   "cell_type": "code",
   "execution_count": 1,
   "id": "8917e157",
   "metadata": {
    "execution": {
     "iopub.execute_input": "2022-10-11T11:52:08.436575Z",
     "iopub.status.busy": "2022-10-11T11:52:08.435814Z",
     "iopub.status.idle": "2022-10-11T11:52:09.723314Z",
     "shell.execute_reply": "2022-10-11T11:52:09.722017Z"
    },
    "papermill": {
     "duration": 1.304924,
     "end_time": "2022-10-11T11:52:09.726816",
     "exception": false,
     "start_time": "2022-10-11T11:52:08.421892",
     "status": "completed"
    },
    "tags": []
   },
   "outputs": [
    {
     "name": "stdout",
     "output_type": "stream",
     "text": [
      "/kaggle/input/paysim1/PS_20174392719_1491204439457_log.csv\n"
     ]
    }
   ],
   "source": [
    "# This Python 3 environment comes with many helpful analytics libraries installed\n",
    "# It is defined by the kaggle/python Docker image: https://github.com/kaggle/docker-python\n",
    "# For example, here's several helpful packages to load\n",
    "\n",
    "import numpy as np # linear algebra\n",
    "import pandas as pd # data processing, CSV file I/O (e.g. pd.read_csv)\n",
    "import matplotlib.pyplot as plt\n",
    "import seaborn as sns\n",
    "import sklearn \n",
    "import scipy \n",
    "from sklearn.metrics import classification_report, accuracy_score\n",
    "\n",
    "# Input data files are available in the read-only \"../input/\" directory\n",
    "# For example, running this (by clicking run or pressing Shift+Enter) will list all files under the input directory\n",
    "\n",
    "import os\n",
    "for dirname, _, filenames in os.walk('/kaggle/input'):\n",
    "    for filename in filenames:\n",
    "        print(os.path.join(dirname, filename))\n",
    "\n",
    "# You can write up to 20GB to the current directory (/kaggle/working/) that gets preserved as output when you create a version using \"Save & Run All\" \n",
    "# You can also write temporary files to /kaggle/temp/, but they won't be saved outside of the current session"
   ]
  },
  {
   "cell_type": "markdown",
   "id": "fbdea1ed",
   "metadata": {
    "papermill": {
     "duration": 0.015505,
     "end_time": "2022-10-11T11:52:09.757739",
     "exception": false,
     "start_time": "2022-10-11T11:52:09.742234",
     "status": "completed"
    },
    "tags": []
   },
   "source": [
    "## Importing Libraries for Outlier Detection"
   ]
  },
  {
   "cell_type": "code",
   "execution_count": 2,
   "id": "828f4e55",
   "metadata": {
    "execution": {
     "iopub.execute_input": "2022-10-11T11:52:09.786312Z",
     "iopub.status.busy": "2022-10-11T11:52:09.785613Z",
     "iopub.status.idle": "2022-10-11T11:52:10.032030Z",
     "shell.execute_reply": "2022-10-11T11:52:10.030861Z"
    },
    "papermill": {
     "duration": 0.263906,
     "end_time": "2022-10-11T11:52:10.035275",
     "exception": false,
     "start_time": "2022-10-11T11:52:09.771369",
     "status": "completed"
    },
    "tags": []
   },
   "outputs": [],
   "source": [
    "from sklearn.ensemble import IsolationForest"
   ]
  },
  {
   "cell_type": "markdown",
   "id": "bcde016b",
   "metadata": {
    "papermill": {
     "duration": 0.012967,
     "end_time": "2022-10-11T11:52:10.061279",
     "exception": false,
     "start_time": "2022-10-11T11:52:10.048312",
     "status": "completed"
    },
    "tags": []
   },
   "source": [
    "## Reading our Dataset"
   ]
  },
  {
   "cell_type": "code",
   "execution_count": 3,
   "id": "ad102f9a",
   "metadata": {
    "execution": {
     "iopub.execute_input": "2022-10-11T11:52:10.088840Z",
     "iopub.status.busy": "2022-10-11T11:52:10.088132Z",
     "iopub.status.idle": "2022-10-11T11:52:29.989624Z",
     "shell.execute_reply": "2022-10-11T11:52:29.988618Z"
    },
    "papermill": {
     "duration": 19.918291,
     "end_time": "2022-10-11T11:52:29.992252",
     "exception": false,
     "start_time": "2022-10-11T11:52:10.073961",
     "status": "completed"
    },
    "tags": []
   },
   "outputs": [],
   "source": [
    "df = pd.read_csv('../input/paysim1/PS_20174392719_1491204439457_log.csv')"
   ]
  },
  {
   "cell_type": "code",
   "execution_count": 4,
   "id": "b420267c",
   "metadata": {
    "execution": {
     "iopub.execute_input": "2022-10-11T11:52:30.019877Z",
     "iopub.status.busy": "2022-10-11T11:52:30.019238Z",
     "iopub.status.idle": "2022-10-11T11:52:30.045133Z",
     "shell.execute_reply": "2022-10-11T11:52:30.043964Z"
    },
    "papermill": {
     "duration": 0.042528,
     "end_time": "2022-10-11T11:52:30.047489",
     "exception": false,
     "start_time": "2022-10-11T11:52:30.004961",
     "status": "completed"
    },
    "tags": []
   },
   "outputs": [
    {
     "data": {
      "text/html": [
       "<div>\n",
       "<style scoped>\n",
       "    .dataframe tbody tr th:only-of-type {\n",
       "        vertical-align: middle;\n",
       "    }\n",
       "\n",
       "    .dataframe tbody tr th {\n",
       "        vertical-align: top;\n",
       "    }\n",
       "\n",
       "    .dataframe thead th {\n",
       "        text-align: right;\n",
       "    }\n",
       "</style>\n",
       "<table border=\"1\" class=\"dataframe\">\n",
       "  <thead>\n",
       "    <tr style=\"text-align: right;\">\n",
       "      <th></th>\n",
       "      <th>step</th>\n",
       "      <th>type</th>\n",
       "      <th>amount</th>\n",
       "      <th>nameOrig</th>\n",
       "      <th>oldbalanceOrg</th>\n",
       "      <th>newbalanceOrig</th>\n",
       "      <th>nameDest</th>\n",
       "      <th>oldbalanceDest</th>\n",
       "      <th>newbalanceDest</th>\n",
       "      <th>isFraud</th>\n",
       "      <th>isFlaggedFraud</th>\n",
       "    </tr>\n",
       "  </thead>\n",
       "  <tbody>\n",
       "    <tr>\n",
       "      <th>0</th>\n",
       "      <td>1</td>\n",
       "      <td>PAYMENT</td>\n",
       "      <td>9839.64</td>\n",
       "      <td>C1231006815</td>\n",
       "      <td>170136.0</td>\n",
       "      <td>160296.36</td>\n",
       "      <td>M1979787155</td>\n",
       "      <td>0.0</td>\n",
       "      <td>0.0</td>\n",
       "      <td>0</td>\n",
       "      <td>0</td>\n",
       "    </tr>\n",
       "    <tr>\n",
       "      <th>1</th>\n",
       "      <td>1</td>\n",
       "      <td>PAYMENT</td>\n",
       "      <td>1864.28</td>\n",
       "      <td>C1666544295</td>\n",
       "      <td>21249.0</td>\n",
       "      <td>19384.72</td>\n",
       "      <td>M2044282225</td>\n",
       "      <td>0.0</td>\n",
       "      <td>0.0</td>\n",
       "      <td>0</td>\n",
       "      <td>0</td>\n",
       "    </tr>\n",
       "    <tr>\n",
       "      <th>2</th>\n",
       "      <td>1</td>\n",
       "      <td>TRANSFER</td>\n",
       "      <td>181.00</td>\n",
       "      <td>C1305486145</td>\n",
       "      <td>181.0</td>\n",
       "      <td>0.00</td>\n",
       "      <td>C553264065</td>\n",
       "      <td>0.0</td>\n",
       "      <td>0.0</td>\n",
       "      <td>1</td>\n",
       "      <td>0</td>\n",
       "    </tr>\n",
       "    <tr>\n",
       "      <th>3</th>\n",
       "      <td>1</td>\n",
       "      <td>CASH_OUT</td>\n",
       "      <td>181.00</td>\n",
       "      <td>C840083671</td>\n",
       "      <td>181.0</td>\n",
       "      <td>0.00</td>\n",
       "      <td>C38997010</td>\n",
       "      <td>21182.0</td>\n",
       "      <td>0.0</td>\n",
       "      <td>1</td>\n",
       "      <td>0</td>\n",
       "    </tr>\n",
       "    <tr>\n",
       "      <th>4</th>\n",
       "      <td>1</td>\n",
       "      <td>PAYMENT</td>\n",
       "      <td>11668.14</td>\n",
       "      <td>C2048537720</td>\n",
       "      <td>41554.0</td>\n",
       "      <td>29885.86</td>\n",
       "      <td>M1230701703</td>\n",
       "      <td>0.0</td>\n",
       "      <td>0.0</td>\n",
       "      <td>0</td>\n",
       "      <td>0</td>\n",
       "    </tr>\n",
       "  </tbody>\n",
       "</table>\n",
       "</div>"
      ],
      "text/plain": [
       "   step      type    amount     nameOrig  oldbalanceOrg  newbalanceOrig  \\\n",
       "0     1   PAYMENT   9839.64  C1231006815       170136.0       160296.36   \n",
       "1     1   PAYMENT   1864.28  C1666544295        21249.0        19384.72   \n",
       "2     1  TRANSFER    181.00  C1305486145          181.0            0.00   \n",
       "3     1  CASH_OUT    181.00   C840083671          181.0            0.00   \n",
       "4     1   PAYMENT  11668.14  C2048537720        41554.0        29885.86   \n",
       "\n",
       "      nameDest  oldbalanceDest  newbalanceDest  isFraud  isFlaggedFraud  \n",
       "0  M1979787155             0.0             0.0        0               0  \n",
       "1  M2044282225             0.0             0.0        0               0  \n",
       "2   C553264065             0.0             0.0        1               0  \n",
       "3    C38997010         21182.0             0.0        1               0  \n",
       "4  M1230701703             0.0             0.0        0               0  "
      ]
     },
     "execution_count": 4,
     "metadata": {},
     "output_type": "execute_result"
    }
   ],
   "source": [
    "df.head()"
   ]
  },
  {
   "cell_type": "markdown",
   "id": "5f934f20",
   "metadata": {
    "papermill": {
     "duration": 0.01248,
     "end_time": "2022-10-11T11:52:30.073019",
     "exception": false,
     "start_time": "2022-10-11T11:52:30.060539",
     "status": "completed"
    },
    "tags": []
   },
   "source": [
    "### Correcting the spelling of original column headers for consistency"
   ]
  },
  {
   "cell_type": "code",
   "execution_count": 5,
   "id": "2457d83f",
   "metadata": {
    "execution": {
     "iopub.execute_input": "2022-10-11T11:52:30.100750Z",
     "iopub.status.busy": "2022-10-11T11:52:30.100092Z",
     "iopub.status.idle": "2022-10-11T11:52:30.597378Z",
     "shell.execute_reply": "2022-10-11T11:52:30.596195Z"
    },
    "papermill": {
     "duration": 0.515324,
     "end_time": "2022-10-11T11:52:30.601052",
     "exception": false,
     "start_time": "2022-10-11T11:52:30.085728",
     "status": "completed"
    },
    "tags": []
   },
   "outputs": [
    {
     "name": "stdout",
     "output_type": "stream",
     "text": [
      "   step      type    amount     nameOrig  oldBalanceOrig  newBalanceOrig  \\\n",
      "0     1   PAYMENT   9839.64  C1231006815        170136.0       160296.36   \n",
      "1     1   PAYMENT   1864.28  C1666544295         21249.0        19384.72   \n",
      "2     1  TRANSFER    181.00  C1305486145           181.0            0.00   \n",
      "3     1  CASH_OUT    181.00   C840083671           181.0            0.00   \n",
      "4     1   PAYMENT  11668.14  C2048537720         41554.0        29885.86   \n",
      "\n",
      "      nameDest  oldBalanceDest  newBalanceDest  isFraud  isFlaggedFraud  \n",
      "0  M1979787155             0.0             0.0        0               0  \n",
      "1  M2044282225             0.0             0.0        0               0  \n",
      "2   C553264065             0.0             0.0        1               0  \n",
      "3    C38997010         21182.0             0.0        1               0  \n",
      "4  M1230701703             0.0             0.0        0               0  \n"
     ]
    }
   ],
   "source": [
    "df = df.rename(columns={'oldbalanceOrg':'oldBalanceOrig', 'newbalanceOrig':'newBalanceOrig', \\\n",
    "                        'oldbalanceDest':'oldBalanceDest', 'newbalanceDest':'newBalanceDest'})\n",
    "print(df.head())"
   ]
  },
  {
   "cell_type": "code",
   "execution_count": 6,
   "id": "cb449e29",
   "metadata": {
    "execution": {
     "iopub.execute_input": "2022-10-11T11:52:30.630689Z",
     "iopub.status.busy": "2022-10-11T11:52:30.630055Z",
     "iopub.status.idle": "2022-10-11T11:52:30.638415Z",
     "shell.execute_reply": "2022-10-11T11:52:30.637157Z"
    },
    "papermill": {
     "duration": 0.024954,
     "end_time": "2022-10-11T11:52:30.640519",
     "exception": false,
     "start_time": "2022-10-11T11:52:30.615565",
     "status": "completed"
    },
    "tags": []
   },
   "outputs": [
    {
     "data": {
      "text/plain": [
       "step                int64\n",
       "type               object\n",
       "amount            float64\n",
       "nameOrig           object\n",
       "oldBalanceOrig    float64\n",
       "newBalanceOrig    float64\n",
       "nameDest           object\n",
       "oldBalanceDest    float64\n",
       "newBalanceDest    float64\n",
       "isFraud             int64\n",
       "isFlaggedFraud      int64\n",
       "dtype: object"
      ]
     },
     "execution_count": 6,
     "metadata": {},
     "output_type": "execute_result"
    }
   ],
   "source": [
    "df.dtypes"
   ]
  },
  {
   "cell_type": "code",
   "execution_count": 7,
   "id": "5fb37797",
   "metadata": {
    "execution": {
     "iopub.execute_input": "2022-10-11T11:52:30.669336Z",
     "iopub.status.busy": "2022-10-11T11:52:30.668466Z",
     "iopub.status.idle": "2022-10-11T11:52:30.675461Z",
     "shell.execute_reply": "2022-10-11T11:52:30.674506Z"
    },
    "papermill": {
     "duration": 0.023865,
     "end_time": "2022-10-11T11:52:30.677559",
     "exception": false,
     "start_time": "2022-10-11T11:52:30.653694",
     "status": "completed"
    },
    "tags": []
   },
   "outputs": [
    {
     "data": {
      "text/plain": [
       "(6362620, 11)"
      ]
     },
     "execution_count": 7,
     "metadata": {},
     "output_type": "execute_result"
    }
   ],
   "source": [
    "df.shape"
   ]
  },
  {
   "cell_type": "markdown",
   "id": "8b178a2f",
   "metadata": {
    "execution": {
     "iopub.execute_input": "2022-10-11T09:31:28.977229Z",
     "iopub.status.busy": "2022-10-11T09:31:28.976839Z",
     "iopub.status.idle": "2022-10-11T09:31:28.982009Z",
     "shell.execute_reply": "2022-10-11T09:31:28.980913Z",
     "shell.execute_reply.started": "2022-10-11T09:31:28.977200Z"
    },
    "papermill": {
     "duration": 0.013307,
     "end_time": "2022-10-11T11:52:30.704103",
     "exception": false,
     "start_time": "2022-10-11T11:52:30.690796",
     "status": "completed"
    },
    "tags": []
   },
   "source": [
    "## Checking Null Values"
   ]
  },
  {
   "cell_type": "code",
   "execution_count": 8,
   "id": "68148e9c",
   "metadata": {
    "execution": {
     "iopub.execute_input": "2022-10-11T11:52:30.733098Z",
     "iopub.status.busy": "2022-10-11T11:52:30.732651Z",
     "iopub.status.idle": "2022-10-11T11:52:31.661742Z",
     "shell.execute_reply": "2022-10-11T11:52:31.660584Z"
    },
    "papermill": {
     "duration": 0.947272,
     "end_time": "2022-10-11T11:52:31.665139",
     "exception": false,
     "start_time": "2022-10-11T11:52:30.717867",
     "status": "completed"
    },
    "tags": []
   },
   "outputs": [
    {
     "data": {
      "text/plain": [
       "step              0\n",
       "type              0\n",
       "amount            0\n",
       "nameOrig          0\n",
       "oldBalanceOrig    0\n",
       "newBalanceOrig    0\n",
       "nameDest          0\n",
       "oldBalanceDest    0\n",
       "newBalanceDest    0\n",
       "isFraud           0\n",
       "isFlaggedFraud    0\n",
       "dtype: int64"
      ]
     },
     "execution_count": 8,
     "metadata": {},
     "output_type": "execute_result"
    }
   ],
   "source": [
    "df.isnull().sum()"
   ]
  },
  {
   "cell_type": "code",
   "execution_count": 9,
   "id": "2efe3f88",
   "metadata": {
    "execution": {
     "iopub.execute_input": "2022-10-11T11:52:31.701955Z",
     "iopub.status.busy": "2022-10-11T11:52:31.700979Z",
     "iopub.status.idle": "2022-10-11T11:52:32.601439Z",
     "shell.execute_reply": "2022-10-11T11:52:32.600219Z"
    },
    "papermill": {
     "duration": 0.918005,
     "end_time": "2022-10-11T11:52:32.603746",
     "exception": false,
     "start_time": "2022-10-11T11:52:31.685741",
     "status": "completed"
    },
    "tags": []
   },
   "outputs": [
    {
     "data": {
      "text/plain": [
       "False"
      ]
     },
     "execution_count": 9,
     "metadata": {},
     "output_type": "execute_result"
    }
   ],
   "source": [
    "df.isnull().values.any()"
   ]
  },
  {
   "cell_type": "markdown",
   "id": "16d0231b",
   "metadata": {
    "papermill": {
     "duration": 0.013237,
     "end_time": "2022-10-11T11:52:32.630466",
     "exception": false,
     "start_time": "2022-10-11T11:52:32.617229",
     "status": "completed"
    },
    "tags": []
   },
   "source": [
    "## Exploratory Data Analysis"
   ]
  },
  {
   "cell_type": "markdown",
   "id": "d9341ebe",
   "metadata": {
    "papermill": {
     "duration": 0.012936,
     "end_time": "2022-10-11T11:52:32.656750",
     "exception": false,
     "start_time": "2022-10-11T11:52:32.643814",
     "status": "completed"
    },
    "tags": []
   },
   "source": [
    "### Which types of transactions are fraudulent?\n",
    "\n",
    "\n",
    "We find that out of the five types of transactions, fraud occurs only in two of them : 'TRANSFER' where money is sent to a customer / fraudster and 'CASH_OUT' where money is sent to a merchant who pays the customer / fraudster in cash. Remarkably, the number of fraudulent TRANSFERs almost equals the number of fraudulent CASH_OUTs.fraud is committed by first transferring out funds to another account which subsequently cashes it out. "
   ]
  },
  {
   "cell_type": "code",
   "execution_count": 10,
   "id": "becdf0b2",
   "metadata": {
    "execution": {
     "iopub.execute_input": "2022-10-11T11:52:32.686022Z",
     "iopub.status.busy": "2022-10-11T11:52:32.684826Z",
     "iopub.status.idle": "2022-10-11T11:52:33.703443Z",
     "shell.execute_reply": "2022-10-11T11:52:33.701351Z"
    },
    "papermill": {
     "duration": 1.037383,
     "end_time": "2022-10-11T11:52:33.707579",
     "exception": false,
     "start_time": "2022-10-11T11:52:32.670196",
     "status": "completed"
    },
    "tags": []
   },
   "outputs": [
    {
     "name": "stdout",
     "output_type": "stream",
     "text": [
      "\n",
      " The types of fraudulent transactions are ['TRANSFER', 'CASH_OUT']\n",
      "\n",
      " The number of fraudulent TRANSFERs = 4097\n",
      "\n",
      " The number of fraudulent CASH_OUTs = 4116\n"
     ]
    }
   ],
   "source": [
    "print('\\n The types of fraudulent transactions are {}'.format(\\\n",
    "list(df.loc[df.isFraud == 1].type.drop_duplicates().values))) # only 'CASH_OUT' \n",
    "                                                             # & 'TRANSFER'\n",
    "\n",
    "dft = df.loc[(df.isFraud == 1) & (df.type == 'TRANSFER')]\n",
    "dfc = df.loc[(df.isFraud == 1) & (df.type == 'CASH_OUT')]\n",
    "\n",
    "print ('\\n The number of fraudulent TRANSFERs = {}'.\\\n",
    "       format(len(dft))) # 4097\n",
    "\n",
    "print ('\\n The number of fraudulent CASH_OUTs = {}'.\\\n",
    "       format(len(dfc))) # 4116"
   ]
  },
  {
   "cell_type": "markdown",
   "id": "b0673560",
   "metadata": {
    "papermill": {
     "duration": 0.016889,
     "end_time": "2022-10-11T11:52:33.743970",
     "exception": false,
     "start_time": "2022-10-11T11:52:33.727081",
     "status": "completed"
    },
    "tags": []
   },
   "source": [
    "### What determines whether the feature isFlaggedFraud gets set or not?\n",
    "\n",
    "\n",
    "It turns out that the origin of isFlaggedFraud is unclear, contrasting with the description provided. The 16 entries (out of 6 million) where the isFlaggedFraud feature is set do not seem to correlate with any explanatory variable. The data is described as isFlaggedFraud being set when an attempt is made to 'TRANSFER' an 'amount' greater than 200,000. In fact, as shown below, isFlaggedFraud can remain not set despite this condition being met."
   ]
  },
  {
   "cell_type": "code",
   "execution_count": 11,
   "id": "ffcbedc5",
   "metadata": {
    "execution": {
     "iopub.execute_input": "2022-10-11T11:52:33.781089Z",
     "iopub.status.busy": "2022-10-11T11:52:33.780586Z",
     "iopub.status.idle": "2022-10-11T11:52:36.328831Z",
     "shell.execute_reply": "2022-10-11T11:52:36.327204Z"
    },
    "papermill": {
     "duration": 2.570081,
     "end_time": "2022-10-11T11:52:36.331691",
     "exception": false,
     "start_time": "2022-10-11T11:52:33.761610",
     "status": "completed"
    },
    "tags": []
   },
   "outputs": [
    {
     "name": "stdout",
     "output_type": "stream",
     "text": [
      "\n",
      "The type of transactions in which isFlaggedFraud is set: ['TRANSFER']\n",
      "\n",
      "Min amount transacted when isFlaggedFraud is set= 353874.22\n",
      "\n",
      "Max amount transacted in a TRANSFER where isFlaggedFraud is not set= 92445516.64\n"
     ]
    }
   ],
   "source": [
    "print('\\nThe type of transactions in which isFlaggedFraud is set: \\\n",
    "{}'.format(list(df.loc[df.isFlaggedFraud == 1].type.drop_duplicates()))) \n",
    "                                                            # only 'TRANSFER'\n",
    "\n",
    "dfTransfer = df.loc[df.type == 'TRANSFER']\n",
    "dfFlagged = df.loc[df.isFlaggedFraud == 1]\n",
    "dfNotFlagged = df.loc[df.isFlaggedFraud == 0]\n",
    "\n",
    "print('\\nMin amount transacted when isFlaggedFraud is set= {}'\\\n",
    "                                  .format(dfFlagged.amount.min())) # 353874.22\n",
    "\n",
    "print('\\nMax amount transacted in a TRANSFER where isFlaggedFraud is not set=\\\n",
    " {}'.format(dfTransfer.loc[dfTransfer.isFlaggedFraud == 0].amount.max())) # 92445516.64"
   ]
  },
  {
   "cell_type": "markdown",
   "id": "30ac3911",
   "metadata": {
    "papermill": {
     "duration": 0.013569,
     "end_time": "2022-10-11T11:52:36.359864",
     "exception": false,
     "start_time": "2022-10-11T11:52:36.346295",
     "status": "completed"
    },
    "tags": []
   },
   "source": [
    "Although isFraud is always set when isFlaggedFraud is set, since isFlaggedFraud is set just 16 times in a seemingly meaningless way, we can treat this feature as insignificant and discard it in the dataset without loosing information."
   ]
  },
  {
   "cell_type": "markdown",
   "id": "33ff8aa3",
   "metadata": {
    "papermill": {
     "duration": 0.013641,
     "end_time": "2022-10-11T11:52:36.387366",
     "exception": false,
     "start_time": "2022-10-11T11:52:36.373725",
     "status": "completed"
    },
    "tags": []
   },
   "source": [
    "### Are expected merchant accounts accordingly labelled?\n",
    "It was stated that CASH_IN involves being paid by a merchant (whose name is prefixed by 'M'). However, as shown below, the present data does not have merchants making CASH_IN transactions to customers."
   ]
  },
  {
   "cell_type": "code",
   "execution_count": 12,
   "id": "3d4164f0",
   "metadata": {
    "execution": {
     "iopub.execute_input": "2022-10-11T11:52:36.417683Z",
     "iopub.status.busy": "2022-10-11T11:52:36.416880Z",
     "iopub.status.idle": "2022-10-11T11:52:37.978348Z",
     "shell.execute_reply": "2022-10-11T11:52:37.977067Z"
    },
    "papermill": {
     "duration": 1.579549,
     "end_time": "2022-10-11T11:52:37.980943",
     "exception": false,
     "start_time": "2022-10-11T11:52:36.401394",
     "status": "completed"
    },
    "tags": []
   },
   "outputs": [
    {
     "name": "stdout",
     "output_type": "stream",
     "text": [
      "\n",
      "Are there any merchants among originator accounts for CASH_IN transactions? False\n"
     ]
    }
   ],
   "source": [
    "print('\\nAre there any merchants among originator accounts for CASH_IN \\\n",
    "transactions? {}'.format(\\\n",
    "(df.loc[df.type == 'CASH_IN'].nameOrig.str.contains('M')).any())) # False"
   ]
  },
  {
   "cell_type": "markdown",
   "id": "7d394119",
   "metadata": {
    "papermill": {
     "duration": 0.014538,
     "end_time": "2022-10-11T11:52:38.010048",
     "exception": false,
     "start_time": "2022-10-11T11:52:37.995510",
     "status": "completed"
    },
    "tags": []
   },
   "source": [
    "Similarly, it was stated that CASH_OUT involves paying a merchant. However, for CASH_OUT transactions there are no merchants among the destination accounts."
   ]
  },
  {
   "cell_type": "code",
   "execution_count": 13,
   "id": "66322b5a",
   "metadata": {
    "execution": {
     "iopub.execute_input": "2022-10-11T11:52:38.041831Z",
     "iopub.status.busy": "2022-10-11T11:52:38.041093Z",
     "iopub.status.idle": "2022-10-11T11:52:40.643601Z",
     "shell.execute_reply": "2022-10-11T11:52:40.641500Z"
    },
    "papermill": {
     "duration": 2.629411,
     "end_time": "2022-10-11T11:52:40.653649",
     "exception": false,
     "start_time": "2022-10-11T11:52:38.024238",
     "status": "completed"
    },
    "tags": []
   },
   "outputs": [
    {
     "name": "stdout",
     "output_type": "stream",
     "text": [
      "\n",
      "Are there any merchants among destination accounts for CASH_OUT transactions? False\n"
     ]
    }
   ],
   "source": [
    "print('\\nAre there any merchants among destination accounts for CASH_OUT \\\n",
    "transactions? {}'.format(\\\n",
    "(df.loc[df.type == 'CASH_OUT'].nameDest.str.contains('M')).any())) # False"
   ]
  },
  {
   "cell_type": "markdown",
   "id": "b04196c9",
   "metadata": {
    "papermill": {
     "duration": 0.025479,
     "end_time": "2022-10-11T11:52:40.718308",
     "exception": false,
     "start_time": "2022-10-11T11:52:40.692829",
     "status": "completed"
    },
    "tags": []
   },
   "source": [
    "In fact, there are no merchants among any originator accounts. Merchants are only present in destination accounts for all PAYMENTS"
   ]
  },
  {
   "cell_type": "code",
   "execution_count": 14,
   "id": "67b3d17e",
   "metadata": {
    "execution": {
     "iopub.execute_input": "2022-10-11T11:52:40.769895Z",
     "iopub.status.busy": "2022-10-11T11:52:40.768775Z",
     "iopub.status.idle": "2022-10-11T11:52:49.139957Z",
     "shell.execute_reply": "2022-10-11T11:52:49.138612Z"
    },
    "papermill": {
     "duration": 8.400051,
     "end_time": "2022-10-11T11:52:49.142668",
     "exception": false,
     "start_time": "2022-10-11T11:52:40.742617",
     "status": "completed"
    },
    "tags": []
   },
   "outputs": [
    {
     "name": "stdout",
     "output_type": "stream",
     "text": [
      "\n",
      "Are there merchants among any originator accounts? False\n",
      "\n",
      "Are there any transactions having merchants among destination accounts other than the PAYMENT type? False\n"
     ]
    }
   ],
   "source": [
    "print('\\nAre there merchants among any originator accounts? {}'.format(\\\n",
    "      df.nameOrig.str.contains('M').any())) # False\n",
    "\n",
    "print('\\nAre there any transactions having merchants among destination accounts\\\n",
    " other than the PAYMENT type? {}'.format(\\\n",
    "(df.loc[df.nameDest.str.contains('M')].type != 'PAYMENT').any())) # False"
   ]
  },
  {
   "cell_type": "markdown",
   "id": "c83c2f29",
   "metadata": {
    "papermill": {
     "duration": 0.014008,
     "end_time": "2022-10-11T11:52:49.171316",
     "exception": false,
     "start_time": "2022-10-11T11:52:49.157308",
     "status": "completed"
    },
    "tags": []
   },
   "source": [
    "Conclusion: Among the account labels nameOrig and nameDest, for all transactions, the merchant prefix of 'M' occurs in an unexpected way."
   ]
  },
  {
   "cell_type": "markdown",
   "id": "5baf806a",
   "metadata": {
    "papermill": {
     "duration": 0.014352,
     "end_time": "2022-10-11T11:52:49.200032",
     "exception": false,
     "start_time": "2022-10-11T11:52:49.185680",
     "status": "completed"
    },
    "tags": []
   },
   "source": [
    "### Are there account labels common to fraudulent TRANSFERs and CASH_OUTs?\n",
    "From the data description, the modus operandi for committing fraud involves first making a TRANSFER to a (fraudulent) account which in turn conducts a CASH_OUT. CASH_OUT involves transacting with a merchant who pays out cash. Thus, within this two-step process, the fraudulent account would be both, the destination in a TRANSFER and the originator in a CASH_OUT. However, the data shows below that there are no such common accounts among fraudulent transactions. Thus, the data is not imprinted with the expected modus-operandi."
   ]
  },
  {
   "cell_type": "code",
   "execution_count": 15,
   "id": "8b433095",
   "metadata": {
    "execution": {
     "iopub.execute_input": "2022-10-11T11:52:49.232095Z",
     "iopub.status.busy": "2022-10-11T11:52:49.231380Z",
     "iopub.status.idle": "2022-10-11T11:52:50.033372Z",
     "shell.execute_reply": "2022-10-11T11:52:50.032331Z"
    },
    "papermill": {
     "duration": 0.821768,
     "end_time": "2022-10-11T11:52:50.036195",
     "exception": false,
     "start_time": "2022-10-11T11:52:49.214427",
     "status": "completed"
    },
    "tags": []
   },
   "outputs": [
    {
     "name": "stdout",
     "output_type": "stream",
     "text": [
      "\n",
      "Within fraudulent transactions, are there destinations for TRANSFERS that are also originators for CASH_OUTs? False\n"
     ]
    }
   ],
   "source": [
    "print('\\nWithin fraudulent transactions, are there destinations for TRANSFERS \\\n",
    "that are also originators for CASH_OUTs? {}'.format(\\\n",
    "(dft.nameDest.isin(dfc.nameOrig)).any())) # False\n",
    "dfNotFraud = df.loc[df.isFraud == 0]"
   ]
  },
  {
   "cell_type": "markdown",
   "id": "464f4ae6",
   "metadata": {
    "papermill": {
     "duration": 0.014154,
     "end_time": "2022-10-11T11:52:50.064877",
     "exception": false,
     "start_time": "2022-10-11T11:52:50.050723",
     "status": "completed"
    },
    "tags": []
   },
   "source": [
    "Could destination accounts for fraudulent TRANSFERs originate CASHOUTs that are not detected and are labeled as genuine? It turns out there are 3 such accounts."
   ]
  },
  {
   "cell_type": "code",
   "execution_count": 16,
   "id": "04760dda",
   "metadata": {
    "execution": {
     "iopub.execute_input": "2022-10-11T11:52:50.096348Z",
     "iopub.status.busy": "2022-10-11T11:52:50.095954Z",
     "iopub.status.idle": "2022-10-11T11:52:52.775001Z",
     "shell.execute_reply": "2022-10-11T11:52:52.773768Z"
    },
    "papermill": {
     "duration": 2.698429,
     "end_time": "2022-10-11T11:52:52.778311",
     "exception": false,
     "start_time": "2022-10-11T11:52:50.079882",
     "status": "completed"
    },
    "tags": []
   },
   "outputs": [
    {
     "name": "stdout",
     "output_type": "stream",
     "text": [
      "\n",
      "Fraudulent TRANSFERs whose destination accounts are originators of genuine CASH_OUTs: \n",
      "\n",
      "         step      type      amount     nameOrig  oldBalanceOrig  \\\n",
      "1030443    65  TRANSFER  1282971.57  C1175896731      1282971.57   \n",
      "6039814   486  TRANSFER   214793.32  C2140495649       214793.32   \n",
      "6362556   738  TRANSFER   814689.88  C2029041842       814689.88   \n",
      "\n",
      "         newBalanceOrig     nameDest  oldBalanceDest  newBalanceDest  isFraud  \\\n",
      "1030443             0.0  C1714931087             0.0             0.0        1   \n",
      "6039814             0.0   C423543548             0.0             0.0        1   \n",
      "6362556             0.0  C1023330867             0.0             0.0        1   \n",
      "\n",
      "         isFlaggedFraud  \n",
      "1030443               0  \n",
      "6039814               0  \n",
      "6362556               0  \n"
     ]
    }
   ],
   "source": [
    "print('\\nFraudulent TRANSFERs whose destination accounts are originators of \\\n",
    "genuine CASH_OUTs: \\n\\n{}'.format(dft.loc[dft.nameDest.\\\n",
    "isin(dfNotFraud.loc[dfNotFraud.type == 'CASH_OUT'].nameOrig.drop_duplicates())]))"
   ]
  },
  {
   "cell_type": "markdown",
   "id": "2ea923e3",
   "metadata": {
    "execution": {
     "iopub.execute_input": "2022-10-11T09:49:57.175944Z",
     "iopub.status.busy": "2022-10-11T09:49:57.175504Z",
     "iopub.status.idle": "2022-10-11T09:49:57.185057Z",
     "shell.execute_reply": "2022-10-11T09:49:57.182762Z",
     "shell.execute_reply.started": "2022-10-11T09:49:57.175906Z"
    },
    "papermill": {
     "duration": 0.014376,
     "end_time": "2022-10-11T11:52:52.808195",
     "exception": false,
     "start_time": "2022-10-11T11:52:52.793819",
     "status": "completed"
    },
    "tags": []
   },
   "source": [
    "However, 2 out of 3 of these accounts first make a genuine CASH_OUT and only later (as evidenced by the time step) receive a fraudulent TRANSFER. Thus, fraudulent transactions are not indicated by the nameOrig and nameDest features."
   ]
  },
  {
   "cell_type": "code",
   "execution_count": 17,
   "id": "598e6f2f",
   "metadata": {
    "execution": {
     "iopub.execute_input": "2022-10-11T11:52:52.839797Z",
     "iopub.status.busy": "2022-10-11T11:52:52.838883Z",
     "iopub.status.idle": "2022-10-11T11:52:53.809972Z",
     "shell.execute_reply": "2022-10-11T11:52:53.808795Z"
    },
    "papermill": {
     "duration": 0.990153,
     "end_time": "2022-10-11T11:52:53.813029",
     "exception": false,
     "start_time": "2022-10-11T11:52:52.822876",
     "status": "completed"
    },
    "tags": []
   },
   "outputs": [
    {
     "name": "stdout",
     "output_type": "stream",
     "text": [
      "\n",
      "Fraudulent TRANSFER to C423543548 occured at step = 486 whereas genuine CASH_OUT from this account occured earlier at step = [185]\n"
     ]
    }
   ],
   "source": [
    "print('\\nFraudulent TRANSFER to C423543548 occured at step = 486 whereas \\\n",
    "genuine CASH_OUT from this account occured earlier at step = {}'.format(\\\n",
    "dfNotFraud.loc[(dfNotFraud.type == 'CASH_OUT') & (dfNotFraud.nameOrig == \\\n",
    "                           'C423543548')].step.values)) # 185"
   ]
  },
  {
   "cell_type": "markdown",
   "id": "2e101f64",
   "metadata": {
    "papermill": {
     "duration": 0.022095,
     "end_time": "2022-10-11T11:52:53.857042",
     "exception": false,
     "start_time": "2022-10-11T11:52:53.834947",
     "status": "completed"
    },
    "tags": []
   },
   "source": [
    "Conclusion: Noting from above suggests that the nameOrig and nameDest features neither encode merchant accounts in the expected way, below, we drop these features from the data since they are meaningless."
   ]
  },
  {
   "cell_type": "markdown",
   "id": "d059c6d5",
   "metadata": {
    "papermill": {
     "duration": 0.022932,
     "end_time": "2022-10-11T11:52:53.902945",
     "exception": false,
     "start_time": "2022-10-11T11:52:53.880013",
     "status": "completed"
    },
    "tags": []
   },
   "source": [
    "## Nomral and Fraud Distribution"
   ]
  },
  {
   "cell_type": "code",
   "execution_count": 18,
   "id": "227c159f",
   "metadata": {
    "execution": {
     "iopub.execute_input": "2022-10-11T11:52:53.942991Z",
     "iopub.status.busy": "2022-10-11T11:52:53.941715Z",
     "iopub.status.idle": "2022-10-11T11:52:54.449045Z",
     "shell.execute_reply": "2022-10-11T11:52:54.447677Z"
    },
    "papermill": {
     "duration": 0.533236,
     "end_time": "2022-10-11T11:52:54.451845",
     "exception": false,
     "start_time": "2022-10-11T11:52:53.918609",
     "status": "completed"
    },
    "tags": []
   },
   "outputs": [
    {
     "data": {
      "image/png": "[encoded data removed]",
      "text/plain": [
       "<Figure size 432x288 with 1 Axes>"
      ]
     },
     "metadata": {
      "needs_background": "light"
     },
     "output_type": "display_data"
    }
   ],
   "source": [
    "fraud_check = pd.value_counts(df['isFraud'], sort =True)\n",
    "fraud_check.plot(kind = 'bar', rot=0, color='r')\n",
    "plt.title(\"Normal and fraud distribution\")\n",
    "plt.xlabel(\"Class\")\n",
    "plt.ylabel(\"Frequency\")\n",
    "Labels = ['Normal','Fraud']\n",
    "plt.xticks(range(2), Labels)\n",
    "plt.show()"
   ]
  },
  {
   "cell_type": "markdown",
   "id": "9f2bd02e",
   "metadata": {
    "papermill": {
     "duration": 0.014889,
     "end_time": "2022-10-11T11:52:54.482331",
     "exception": false,
     "start_time": "2022-10-11T11:52:54.467442",
     "status": "completed"
    },
    "tags": []
   },
   "source": [
    "### Lets us see what is the shape of normal and fraud data set"
   ]
  },
  {
   "cell_type": "code",
   "execution_count": 19,
   "id": "5947ef63",
   "metadata": {
    "execution": {
     "iopub.execute_input": "2022-10-11T11:52:54.515178Z",
     "iopub.status.busy": "2022-10-11T11:52:54.513764Z",
     "iopub.status.idle": "2022-10-11T11:52:55.321601Z",
     "shell.execute_reply": "2022-10-11T11:52:55.320518Z"
    },
    "papermill": {
     "duration": 0.827151,
     "end_time": "2022-10-11T11:52:55.324539",
     "exception": false,
     "start_time": "2022-10-11T11:52:54.497388",
     "status": "completed"
    },
    "tags": []
   },
   "outputs": [],
   "source": [
    "fraud_people = df[df['isFraud']==1]\n",
    "normal_people = df[df['isFraud']==0]"
   ]
  },
  {
   "cell_type": "code",
   "execution_count": 20,
   "id": "1b80e53c",
   "metadata": {
    "execution": {
     "iopub.execute_input": "2022-10-11T11:52:55.357211Z",
     "iopub.status.busy": "2022-10-11T11:52:55.356710Z",
     "iopub.status.idle": "2022-10-11T11:52:55.363069Z",
     "shell.execute_reply": "2022-10-11T11:52:55.362287Z"
    },
    "papermill": {
     "duration": 0.025309,
     "end_time": "2022-10-11T11:52:55.365073",
     "exception": false,
     "start_time": "2022-10-11T11:52:55.339764",
     "status": "completed"
    },
    "tags": []
   },
   "outputs": [
    {
     "data": {
      "text/plain": [
       "(8213, 11)"
      ]
     },
     "execution_count": 20,
     "metadata": {},
     "output_type": "execute_result"
    }
   ],
   "source": [
    "fraud_people.shape"
   ]
  },
  {
   "cell_type": "code",
   "execution_count": 21,
   "id": "64a13a83",
   "metadata": {
    "execution": {
     "iopub.execute_input": "2022-10-11T11:52:55.397748Z",
     "iopub.status.busy": "2022-10-11T11:52:55.397043Z",
     "iopub.status.idle": "2022-10-11T11:52:55.403285Z",
     "shell.execute_reply": "2022-10-11T11:52:55.402231Z"
    },
    "papermill": {
     "duration": 0.025114,
     "end_time": "2022-10-11T11:52:55.405487",
     "exception": false,
     "start_time": "2022-10-11T11:52:55.380373",
     "status": "completed"
    },
    "tags": []
   },
   "outputs": [
    {
     "data": {
      "text/plain": [
       "(6354407, 11)"
      ]
     },
     "execution_count": 21,
     "metadata": {},
     "output_type": "execute_result"
    }
   ],
   "source": [
    "normal_people.shape"
   ]
  },
  {
   "cell_type": "markdown",
   "id": "bb2fbcd3",
   "metadata": {
    "papermill": {
     "duration": 0.015042,
     "end_time": "2022-10-11T11:52:55.436000",
     "exception": false,
     "start_time": "2022-10-11T11:52:55.420958",
     "status": "completed"
    },
    "tags": []
   },
   "source": [
    "### Finding out the avg amount in our both data sets"
   ]
  },
  {
   "cell_type": "code",
   "execution_count": 22,
   "id": "b8f49688",
   "metadata": {
    "execution": {
     "iopub.execute_input": "2022-10-11T11:52:55.468525Z",
     "iopub.status.busy": "2022-10-11T11:52:55.468081Z",
     "iopub.status.idle": "2022-10-11T11:52:55.483318Z",
     "shell.execute_reply": "2022-10-11T11:52:55.482475Z"
    },
    "papermill": {
     "duration": 0.034149,
     "end_time": "2022-10-11T11:52:55.485465",
     "exception": false,
     "start_time": "2022-10-11T11:52:55.451316",
     "status": "completed"
    },
    "tags": []
   },
   "outputs": [
    {
     "data": {
      "text/plain": [
       "count    8.213000e+03\n",
       "mean     1.467967e+06\n",
       "std      2.404253e+06\n",
       "min      0.000000e+00\n",
       "25%      1.270913e+05\n",
       "50%      4.414234e+05\n",
       "75%      1.517771e+06\n",
       "max      1.000000e+07\n",
       "Name: amount, dtype: float64"
      ]
     },
     "execution_count": 22,
     "metadata": {},
     "output_type": "execute_result"
    }
   ],
   "source": [
    "fraud_people['amount'].describe()"
   ]
  },
  {
   "cell_type": "code",
   "execution_count": 23,
   "id": "a4650c45",
   "metadata": {
    "execution": {
     "iopub.execute_input": "2022-10-11T11:52:55.519140Z",
     "iopub.status.busy": "2022-10-11T11:52:55.518278Z",
     "iopub.status.idle": "2022-10-11T11:52:55.859454Z",
     "shell.execute_reply": "2022-10-11T11:52:55.858306Z"
    },
    "papermill": {
     "duration": 0.360614,
     "end_time": "2022-10-11T11:52:55.861849",
     "exception": false,
     "start_time": "2022-10-11T11:52:55.501235",
     "status": "completed"
    },
    "tags": []
   },
   "outputs": [
    {
     "data": {
      "text/plain": [
       "count    6.354407e+06\n",
       "mean     1.781970e+05\n",
       "std      5.962370e+05\n",
       "min      1.000000e-02\n",
       "25%      1.336840e+04\n",
       "50%      7.468472e+04\n",
       "75%      2.083648e+05\n",
       "max      9.244552e+07\n",
       "Name: amount, dtype: float64"
      ]
     },
     "execution_count": 23,
     "metadata": {},
     "output_type": "execute_result"
    }
   ],
   "source": [
    "normal_people['amount'].describe()"
   ]
  },
  {
   "cell_type": "markdown",
   "id": "8bc0593c",
   "metadata": {
    "papermill": {
     "duration": 0.015433,
     "end_time": "2022-10-11T11:52:55.893193",
     "exception": false,
     "start_time": "2022-10-11T11:52:55.877760",
     "status": "completed"
    },
    "tags": []
   },
   "source": [
    "### Let us analyse it visually"
   ]
  },
  {
   "cell_type": "code",
   "execution_count": 24,
   "id": "13bcf451",
   "metadata": {
    "execution": {
     "iopub.execute_input": "2022-10-11T11:52:55.926697Z",
     "iopub.status.busy": "2022-10-11T11:52:55.926288Z",
     "iopub.status.idle": "2022-10-11T11:52:56.794065Z",
     "shell.execute_reply": "2022-10-11T11:52:56.793180Z"
    },
    "papermill": {
     "duration": 0.887675,
     "end_time": "2022-10-11T11:52:56.796495",
     "exception": false,
     "start_time": "2022-10-11T11:52:55.908820",
     "status": "completed"
    },
    "tags": []
   },
   "outputs": [
    {
     "data": {
      "image/png": "[encoded data removed]",
      "text/plain": [
       "<Figure size 432x288 with 2 Axes>"
      ]
     },
     "metadata": {
      "needs_background": "light"
     },
     "output_type": "display_data"
    }
   ],
   "source": [
    "graph, (plot1, plot2) = plt.subplots(2,1,sharex = True) #sharex used to avoid overlapping of titles\n",
    "graph.suptitle(\"Average amount per class\")\n",
    "bins = 70\n",
    "\n",
    "plot1.hist(fraud_people['amount'], bins = bins)\n",
    "plot1.set_title('Fraud Amount')\n",
    "\n",
    "plot2.hist(normal_people['amount'], bins = bins)\n",
    "plot2.set_title('Normal Amount')\n",
    "\n",
    "plt.xlabel('amount ($) ')\n",
    "plt.ylabel('Number of Transactions')\n",
    "plt.yscale('log')\n",
    "plt.show();"
   ]
  },
  {
   "cell_type": "markdown",
   "id": "78d44761",
   "metadata": {
    "papermill": {
     "duration": 0.016003,
     "end_time": "2022-10-11T11:52:56.829114",
     "exception": false,
     "start_time": "2022-10-11T11:52:56.813111",
     "status": "completed"
    },
    "tags": []
   },
   "source": [
    "## Correlation Heatmap"
   ]
  },
  {
   "cell_type": "code",
   "execution_count": 25,
   "id": "09927898",
   "metadata": {
    "execution": {
     "iopub.execute_input": "2022-10-11T11:52:56.864490Z",
     "iopub.status.busy": "2022-10-11T11:52:56.863069Z",
     "iopub.status.idle": "2022-10-11T11:52:59.134589Z",
     "shell.execute_reply": "2022-10-11T11:52:59.133319Z"
    },
    "papermill": {
     "duration": 2.291711,
     "end_time": "2022-10-11T11:52:59.137208",
     "exception": false,
     "start_time": "2022-10-11T11:52:56.845497",
     "status": "completed"
    },
    "tags": []
   },
   "outputs": [
    {
     "data": {
      "image/png": "[encoded data removed]",
      "text/plain": [
       "<Figure size 1440x1440 with 2 Axes>"
      ]
     },
     "metadata": {
      "needs_background": "light"
     },
     "output_type": "display_data"
    }
   ],
   "source": [
    "df.corr\n",
    "plt.figure(figsize =(20,20))\n",
    "g=sns.heatmap(df.corr(),annot=True) #annet used to add text"
   ]
  },
  {
   "cell_type": "markdown",
   "id": "6100245c",
   "metadata": {
    "execution": {
     "iopub.execute_input": "2022-10-11T10:03:14.907451Z",
     "iopub.status.busy": "2022-10-11T10:03:14.907032Z",
     "iopub.status.idle": "2022-10-11T10:03:14.912432Z",
     "shell.execute_reply": "2022-10-11T10:03:14.911246Z",
     "shell.execute_reply.started": "2022-10-11T10:03:14.907414Z"
    },
    "papermill": {
     "duration": 0.016928,
     "end_time": "2022-10-11T11:52:59.171646",
     "exception": false,
     "start_time": "2022-10-11T11:52:59.154718",
     "status": "completed"
    },
    "tags": []
   },
   "source": [
    "## Creating our Dependent and Independent Features"
   ]
  },
  {
   "cell_type": "code",
   "execution_count": 26,
   "id": "267e3873",
   "metadata": {
    "execution": {
     "iopub.execute_input": "2022-10-11T11:52:59.208437Z",
     "iopub.status.busy": "2022-10-11T11:52:59.208017Z",
     "iopub.status.idle": "2022-10-11T11:52:59.748765Z",
     "shell.execute_reply": "2022-10-11T11:52:59.747652Z"
    },
    "papermill": {
     "duration": 0.562352,
     "end_time": "2022-10-11T11:52:59.751392",
     "exception": false,
     "start_time": "2022-10-11T11:52:59.189040",
     "status": "completed"
    },
    "tags": []
   },
   "outputs": [],
   "source": [
    "columns = df.columns.tolist()\n",
    "# Making our independent Features\n",
    "columns = [var for var in columns if var not in [\"isFraud\"]]\n",
    "# Making our Dependent Variable\n",
    "target = \"isFraud\"\n",
    "x = df[columns]\n",
    "y = df[target]"
   ]
  },
  {
   "cell_type": "markdown",
   "id": "32286b2a",
   "metadata": {
    "papermill": {
     "duration": 0.01845,
     "end_time": "2022-10-11T11:52:59.790295",
     "exception": false,
     "start_time": "2022-10-11T11:52:59.771845",
     "status": "completed"
    },
    "tags": []
   },
   "source": [
    "### Label Encoding"
   ]
  },
  {
   "cell_type": "code",
   "execution_count": 27,
   "id": "e2c2f2c0",
   "metadata": {
    "execution": {
     "iopub.execute_input": "2022-10-11T11:52:59.826825Z",
     "iopub.status.busy": "2022-10-11T11:52:59.826137Z",
     "iopub.status.idle": "2022-10-11T11:53:01.687334Z",
     "shell.execute_reply": "2022-10-11T11:53:01.685809Z"
    },
    "papermill": {
     "duration": 1.882696,
     "end_time": "2022-10-11T11:53:01.690196",
     "exception": false,
     "start_time": "2022-10-11T11:52:59.807500",
     "status": "completed"
    },
    "tags": []
   },
   "outputs": [
    {
     "name": "stderr",
     "output_type": "stream",
     "text": [
      "/opt/conda/lib/python3.7/site-packages/pandas/core/generic.py:6619: SettingWithCopyWarning: \n",
      "A value is trying to be set on a copy of a slice from a DataFrame\n",
      "\n",
      "See the caveats in the documentation: https://pandas.pydata.org/pandas-docs/stable/user_guide/indexing.html#returning-a-view-versus-a-copy\n",
      "  return self._update_inplace(result)\n"
     ]
    }
   ],
   "source": [
    "x['type'].replace(['CASH_IN','CASH_OUT','DEBIT','PAYMENT','TRANSFER'],['1','2','3','4','5',], inplace=True)"
   ]
  },
  {
   "cell_type": "code",
   "execution_count": 28,
   "id": "c2085c7a",
   "metadata": {
    "execution": {
     "iopub.execute_input": "2022-10-11T11:53:01.726897Z",
     "iopub.status.busy": "2022-10-11T11:53:01.726453Z",
     "iopub.status.idle": "2022-10-11T11:53:02.054565Z",
     "shell.execute_reply": "2022-10-11T11:53:02.053393Z"
    },
    "papermill": {
     "duration": 0.349435,
     "end_time": "2022-10-11T11:53:02.057075",
     "exception": false,
     "start_time": "2022-10-11T11:53:01.707640",
     "status": "completed"
    },
    "tags": []
   },
   "outputs": [
    {
     "name": "stderr",
     "output_type": "stream",
     "text": [
      "/opt/conda/lib/python3.7/site-packages/pandas/core/frame.py:4913: SettingWithCopyWarning: \n",
      "A value is trying to be set on a copy of a slice from a DataFrame\n",
      "\n",
      "See the caveats in the documentation: https://pandas.pydata.org/pandas-docs/stable/user_guide/indexing.html#returning-a-view-versus-a-copy\n",
      "  errors=errors,\n"
     ]
    },
    {
     "data": {
      "text/html": [
       "<div>\n",
       "<style scoped>\n",
       "    .dataframe tbody tr th:only-of-type {\n",
       "        vertical-align: middle;\n",
       "    }\n",
       "\n",
       "    .dataframe tbody tr th {\n",
       "        vertical-align: top;\n",
       "    }\n",
       "\n",
       "    .dataframe thead th {\n",
       "        text-align: right;\n",
       "    }\n",
       "</style>\n",
       "<table border=\"1\" class=\"dataframe\">\n",
       "  <thead>\n",
       "    <tr style=\"text-align: right;\">\n",
       "      <th></th>\n",
       "      <th>step</th>\n",
       "      <th>type</th>\n",
       "      <th>amount</th>\n",
       "      <th>oldBalanceOrig</th>\n",
       "      <th>newBalanceOrig</th>\n",
       "      <th>oldBalanceDest</th>\n",
       "      <th>newBalanceDest</th>\n",
       "    </tr>\n",
       "  </thead>\n",
       "  <tbody>\n",
       "    <tr>\n",
       "      <th>0</th>\n",
       "      <td>1</td>\n",
       "      <td>4</td>\n",
       "      <td>9839.64</td>\n",
       "      <td>170136.0</td>\n",
       "      <td>160296.36</td>\n",
       "      <td>0.0</td>\n",
       "      <td>0.0</td>\n",
       "    </tr>\n",
       "    <tr>\n",
       "      <th>1</th>\n",
       "      <td>1</td>\n",
       "      <td>4</td>\n",
       "      <td>1864.28</td>\n",
       "      <td>21249.0</td>\n",
       "      <td>19384.72</td>\n",
       "      <td>0.0</td>\n",
       "      <td>0.0</td>\n",
       "    </tr>\n",
       "    <tr>\n",
       "      <th>2</th>\n",
       "      <td>1</td>\n",
       "      <td>5</td>\n",
       "      <td>181.00</td>\n",
       "      <td>181.0</td>\n",
       "      <td>0.00</td>\n",
       "      <td>0.0</td>\n",
       "      <td>0.0</td>\n",
       "    </tr>\n",
       "    <tr>\n",
       "      <th>3</th>\n",
       "      <td>1</td>\n",
       "      <td>2</td>\n",
       "      <td>181.00</td>\n",
       "      <td>181.0</td>\n",
       "      <td>0.00</td>\n",
       "      <td>21182.0</td>\n",
       "      <td>0.0</td>\n",
       "    </tr>\n",
       "    <tr>\n",
       "      <th>4</th>\n",
       "      <td>1</td>\n",
       "      <td>4</td>\n",
       "      <td>11668.14</td>\n",
       "      <td>41554.0</td>\n",
       "      <td>29885.86</td>\n",
       "      <td>0.0</td>\n",
       "      <td>0.0</td>\n",
       "    </tr>\n",
       "  </tbody>\n",
       "</table>\n",
       "</div>"
      ],
      "text/plain": [
       "   step type    amount  oldBalanceOrig  newBalanceOrig  oldBalanceDest  \\\n",
       "0     1    4   9839.64        170136.0       160296.36             0.0   \n",
       "1     1    4   1864.28         21249.0        19384.72             0.0   \n",
       "2     1    5    181.00           181.0            0.00             0.0   \n",
       "3     1    2    181.00           181.0            0.00         21182.0   \n",
       "4     1    4  11668.14         41554.0        29885.86             0.0   \n",
       "\n",
       "   newBalanceDest  \n",
       "0             0.0  \n",
       "1             0.0  \n",
       "2             0.0  \n",
       "3             0.0  \n",
       "4             0.0  "
      ]
     },
     "execution_count": 28,
     "metadata": {},
     "output_type": "execute_result"
    }
   ],
   "source": [
    "x.drop(['nameOrig','nameDest','isFlaggedFraud'],axis=1, inplace=True)\n",
    "x.head()"
   ]
  },
  {
   "cell_type": "code",
   "execution_count": 29,
   "id": "abe802f0",
   "metadata": {
    "execution": {
     "iopub.execute_input": "2022-10-11T11:53:02.094964Z",
     "iopub.status.busy": "2022-10-11T11:53:02.094328Z",
     "iopub.status.idle": "2022-10-11T11:53:02.101329Z",
     "shell.execute_reply": "2022-10-11T11:53:02.100308Z"
    },
    "papermill": {
     "duration": 0.028598,
     "end_time": "2022-10-11T11:53:02.103612",
     "exception": false,
     "start_time": "2022-10-11T11:53:02.075014",
     "status": "completed"
    },
    "tags": []
   },
   "outputs": [
    {
     "data": {
      "text/plain": [
       "0    0\n",
       "1    0\n",
       "2    1\n",
       "3    1\n",
       "4    0\n",
       "Name: isFraud, dtype: int64"
      ]
     },
     "execution_count": 29,
     "metadata": {},
     "output_type": "execute_result"
    }
   ],
   "source": [
    "y.head()"
   ]
  },
  {
   "cell_type": "markdown",
   "id": "2caab212",
   "metadata": {
    "papermill": {
     "duration": 0.017676,
     "end_time": "2022-10-11T11:53:02.139337",
     "exception": false,
     "start_time": "2022-10-11T11:53:02.121661",
     "status": "completed"
    },
    "tags": []
   },
   "source": [
    "## Model Building"
   ]
  },
  {
   "cell_type": "markdown",
   "id": "e38fe5e5",
   "metadata": {
    "papermill": {
     "duration": 0.017737,
     "end_time": "2022-10-11T11:53:02.175391",
     "exception": false,
     "start_time": "2022-10-11T11:53:02.157654",
     "status": "completed"
    },
    "tags": []
   },
   "source": [
    "### Splitting the data"
   ]
  },
  {
   "cell_type": "code",
   "execution_count": 30,
   "id": "00ddd24f",
   "metadata": {
    "execution": {
     "iopub.execute_input": "2022-10-11T11:53:02.214175Z",
     "iopub.status.busy": "2022-10-11T11:53:02.212961Z",
     "iopub.status.idle": "2022-10-11T11:53:04.700009Z",
     "shell.execute_reply": "2022-10-11T11:53:04.698431Z"
    },
    "papermill": {
     "duration": 2.509557,
     "end_time": "2022-10-11T11:53:04.703056",
     "exception": false,
     "start_time": "2022-10-11T11:53:02.193499",
     "status": "completed"
    },
    "tags": []
   },
   "outputs": [],
   "source": [
    "from sklearn.model_selection import train_test_split\n",
    "x_train, x_test, y_train, y_test = train_test_split(x,y, test_size=0.30, random_state = 42)"
   ]
  },
  {
   "cell_type": "markdown",
   "id": "e08e598a",
   "metadata": {
    "papermill": {
     "duration": 0.026415,
     "end_time": "2022-10-11T11:53:04.756960",
     "exception": false,
     "start_time": "2022-10-11T11:53:04.730545",
     "status": "completed"
    },
    "tags": []
   },
   "source": [
    "### We will be using the Isolation Forest for our Anamoly Detection"
   ]
  },
  {
   "cell_type": "markdown",
   "id": "97922fcd",
   "metadata": {
    "papermill": {
     "duration": 0.020681,
     "end_time": "2022-10-11T11:53:04.805552",
     "exception": false,
     "start_time": "2022-10-11T11:53:04.784871",
     "status": "completed"
    },
    "tags": []
   },
   "source": [
    "## Isolation Forest"
   ]
  },
  {
   "cell_type": "markdown",
   "id": "95e80c66",
   "metadata": {
    "papermill": {
     "duration": 0.019299,
     "end_time": "2022-10-11T11:53:04.844721",
     "exception": false,
     "start_time": "2022-10-11T11:53:04.825422",
     "status": "completed"
    },
    "tags": []
   },
   "source": [
    "### One of the newest techniques to detect anomalies is called Isolation Forests. The algorithm is based on the fact that anomalies that are few and different. As a result of these properties, anomalies are susceptible to a mechanism called isolation.\n",
    "\n",
    "### This method is highly useful and is fundamentally different from all existing methods. It introduces the use of isolation as a more effective and efficient means to detect anomalies than the commonly used basic distance and density measures. Morever, this method is an algorithm with a low linear time complexity and a small memory requirement. It builds a good performing model with a small number of trees using small sub-samples of fixed size, regardless of the size of a dataset.\n",
    "\n",
    "### Typical machine learning methods tend to work better when the patterns they try to learn are balanced, meaning the same amount of good and bad behaviours are present in the dataset.\n",
    "\n",
    "### How Isolation Forests Work - the Isolation Forest algorithm observations by randomly selecting a feature and then randomly selecting a split value between the maximum and minimum values of the selected feature. The logic argument goes isolating anomaly observations is easier because only a few conditons are needed to separate those cases from the normal observations. On the other hand, isolating normal observations require more conditions. Therefore, an anomaly score can be calculated as the number of conditions required to separate a given observation.\n",
    "\n",
    "### The way that the algorithm constructs the separation is by first creating isolation trees, or random decision trees. Then the score is calculated as the path length to isolate the observation."
   ]
  },
  {
   "cell_type": "code",
   "execution_count": 31,
   "id": "df7979b7",
   "metadata": {
    "execution": {
     "iopub.execute_input": "2022-10-11T11:53:04.883756Z",
     "iopub.status.busy": "2022-10-11T11:53:04.882764Z",
     "iopub.status.idle": "2022-10-11T11:53:04.888585Z",
     "shell.execute_reply": "2022-10-11T11:53:04.887409Z"
    },
    "papermill": {
     "duration": 0.027654,
     "end_time": "2022-10-11T11:53:04.891052",
     "exception": false,
     "start_time": "2022-10-11T11:53:04.863398",
     "status": "completed"
    },
    "tags": []
   },
   "outputs": [],
   "source": [
    "iso_forest = IsolationForest(n_estimators =100, max_samples = len(x_train), random_state=0, verbose=0)"
   ]
  },
  {
   "cell_type": "code",
   "execution_count": 32,
   "id": "f1d4fc54",
   "metadata": {
    "execution": {
     "iopub.execute_input": "2022-10-11T11:53:04.930211Z",
     "iopub.status.busy": "2022-10-11T11:53:04.929746Z",
     "iopub.status.idle": "2022-10-11T11:59:01.371548Z",
     "shell.execute_reply": "2022-10-11T11:59:01.370124Z"
    },
    "papermill": {
     "duration": 356.484485,
     "end_time": "2022-10-11T11:59:01.393869",
     "exception": false,
     "start_time": "2022-10-11T11:53:04.909384",
     "status": "completed"
    },
    "tags": []
   },
   "outputs": [
    {
     "data": {
      "text/plain": [
       "IsolationForest(max_samples=4453834, random_state=0)"
      ]
     },
     "execution_count": 32,
     "metadata": {},
     "output_type": "execute_result"
    }
   ],
   "source": [
    "iso_forest.fit(x_train,y_train)"
   ]
  },
  {
   "cell_type": "code",
   "execution_count": 33,
   "id": "e1e5b124",
   "metadata": {
    "execution": {
     "iopub.execute_input": "2022-10-11T11:59:01.432496Z",
     "iopub.status.busy": "2022-10-11T11:59:01.432085Z",
     "iopub.status.idle": "2022-10-11T12:01:26.338995Z",
     "shell.execute_reply": "2022-10-11T12:01:26.337646Z"
    },
    "papermill": {
     "duration": 144.929927,
     "end_time": "2022-10-11T12:01:26.342186",
     "exception": false,
     "start_time": "2022-10-11T11:59:01.412259",
     "status": "completed"
    },
    "tags": []
   },
   "outputs": [],
   "source": [
    "ypred = iso_forest.predict(x_test)"
   ]
  },
  {
   "cell_type": "markdown",
   "id": "2764426f",
   "metadata": {
    "papermill": {
     "duration": 0.019032,
     "end_time": "2022-10-11T12:01:26.380284",
     "exception": false,
     "start_time": "2022-10-11T12:01:26.361252",
     "status": "completed"
    },
    "tags": []
   },
   "source": [
    "### Mapping the values as we want to have an output in 0 and 1"
   ]
  },
  {
   "cell_type": "code",
   "execution_count": 34,
   "id": "708a4dc4",
   "metadata": {
    "execution": {
     "iopub.execute_input": "2022-10-11T12:01:26.421290Z",
     "iopub.status.busy": "2022-10-11T12:01:26.420475Z",
     "iopub.status.idle": "2022-10-11T12:01:26.433968Z",
     "shell.execute_reply": "2022-10-11T12:01:26.433090Z"
    },
    "papermill": {
     "duration": 0.037173,
     "end_time": "2022-10-11T12:01:26.436641",
     "exception": false,
     "start_time": "2022-10-11T12:01:26.399468",
     "status": "completed"
    },
    "tags": []
   },
   "outputs": [],
   "source": [
    "ypred[ypred == 1] = 0\n",
    "ypred[ypred == -1] = 1"
   ]
  },
  {
   "cell_type": "markdown",
   "id": "a1fc35c3",
   "metadata": {
    "papermill": {
     "duration": 0.018515,
     "end_time": "2022-10-11T12:01:26.473690",
     "exception": false,
     "start_time": "2022-10-11T12:01:26.455175",
     "status": "completed"
    },
    "tags": []
   },
   "source": [
    "## Accuracy score and Matrix"
   ]
  },
  {
   "cell_type": "code",
   "execution_count": 35,
   "id": "44c70c61",
   "metadata": {
    "execution": {
     "iopub.execute_input": "2022-10-11T12:01:26.513474Z",
     "iopub.status.busy": "2022-10-11T12:01:26.512641Z",
     "iopub.status.idle": "2022-10-11T12:01:26.715383Z",
     "shell.execute_reply": "2022-10-11T12:01:26.713642Z"
    },
    "papermill": {
     "duration": 0.225573,
     "end_time": "2022-10-11T12:01:26.717941",
     "exception": false,
     "start_time": "2022-10-11T12:01:26.492368",
     "status": "completed"
    },
    "tags": []
   },
   "outputs": [
    {
     "name": "stdout",
     "output_type": "stream",
     "text": [
      "0.9931794344677717\n"
     ]
    }
   ],
   "source": [
    "print(accuracy_score(y_test,ypred))"
   ]
  },
  {
   "cell_type": "code",
   "execution_count": 36,
   "id": "48589d0e",
   "metadata": {
    "execution": {
     "iopub.execute_input": "2022-10-11T12:01:26.757906Z",
     "iopub.status.busy": "2022-10-11T12:01:26.757237Z",
     "iopub.status.idle": "2022-10-11T12:01:30.328719Z",
     "shell.execute_reply": "2022-10-11T12:01:30.327525Z"
    },
    "papermill": {
     "duration": 3.594903,
     "end_time": "2022-10-11T12:01:30.331718",
     "exception": false,
     "start_time": "2022-10-11T12:01:26.736815",
     "status": "completed"
    },
    "tags": []
   },
   "outputs": [
    {
     "name": "stdout",
     "output_type": "stream",
     "text": [
      "              precision    recall  f1-score   support\n",
      "\n",
      "           0       1.00      0.99      1.00   1906351\n",
      "           1       0.05      0.22      0.08      2435\n",
      "\n",
      "    accuracy                           0.99   1908786\n",
      "   macro avg       0.52      0.61      0.54   1908786\n",
      "weighted avg       1.00      0.99      1.00   1908786\n",
      "\n"
     ]
    }
   ],
   "source": [
    "print(classification_report(y_test,ypred))"
   ]
  },
  {
   "cell_type": "code",
   "execution_count": 37,
   "id": "1e3a8742",
   "metadata": {
    "execution": {
     "iopub.execute_input": "2022-10-11T12:01:30.371403Z",
     "iopub.status.busy": "2022-10-11T12:01:30.370957Z",
     "iopub.status.idle": "2022-10-11T12:01:30.375865Z",
     "shell.execute_reply": "2022-10-11T12:01:30.374982Z"
    },
    "papermill": {
     "duration": 0.027034,
     "end_time": "2022-10-11T12:01:30.377931",
     "exception": false,
     "start_time": "2022-10-11T12:01:30.350897",
     "status": "completed"
    },
    "tags": []
   },
   "outputs": [],
   "source": [
    "from sklearn.metrics import confusion_matrix"
   ]
  },
  {
   "cell_type": "code",
   "execution_count": 38,
   "id": "75bea913",
   "metadata": {
    "execution": {
     "iopub.execute_input": "2022-10-11T12:01:30.417203Z",
     "iopub.status.busy": "2022-10-11T12:01:30.416526Z",
     "iopub.status.idle": "2022-10-11T12:01:30.814556Z",
     "shell.execute_reply": "2022-10-11T12:01:30.813312Z"
    },
    "papermill": {
     "duration": 0.420601,
     "end_time": "2022-10-11T12:01:30.817162",
     "exception": false,
     "start_time": "2022-10-11T12:01:30.396561",
     "status": "completed"
    },
    "tags": []
   },
   "outputs": [
    {
     "data": {
      "text/plain": [
       "array([[1895225,   11126],\n",
       "       [   1893,     542]])"
      ]
     },
     "execution_count": 38,
     "metadata": {},
     "output_type": "execute_result"
    }
   ],
   "source": [
    "confusion_matrix(y_test, ypred)"
   ]
  },
  {
   "cell_type": "markdown",
   "id": "726cf49a",
   "metadata": {
    "papermill": {
     "duration": 0.019995,
     "end_time": "2022-10-11T12:01:30.856817",
     "exception": false,
     "start_time": "2022-10-11T12:01:30.836822",
     "status": "completed"
    },
    "tags": []
   },
   "source": [
    "### We can also print how many error our model have"
   ]
  },
  {
   "cell_type": "code",
   "execution_count": 39,
   "id": "0ae2d498",
   "metadata": {
    "execution": {
     "iopub.execute_input": "2022-10-11T12:01:30.897063Z",
     "iopub.status.busy": "2022-10-11T12:01:30.896586Z",
     "iopub.status.idle": "2022-10-11T12:01:30.909490Z",
     "shell.execute_reply": "2022-10-11T12:01:30.908367Z"
    },
    "papermill": {
     "duration": 0.035582,
     "end_time": "2022-10-11T12:01:30.911706",
     "exception": false,
     "start_time": "2022-10-11T12:01:30.876124",
     "status": "completed"
    },
    "tags": []
   },
   "outputs": [
    {
     "name": "stdout",
     "output_type": "stream",
     "text": [
      "Isolation Forest have 13019 erorrs.\n"
     ]
    }
   ],
   "source": [
    "n_erorrs = (ypred != y_test).sum()\n",
    "print(\"Isolation Forest have {} erorrs.\".format(n_erorrs))"
   ]
  }
 ],
 "metadata": {
  "kernelspec": {
   "display_name": "Python 3",
   "language": "python",
   "name": "python3"
  },
  "language_info": {
   "codemirror_mode": {
    "name": "ipython",
    "version": 3
   },
   "file_extension": ".py",
   "mimetype": "text/x-python",
   "name": "python",
   "nbconvert_exporter": "python",
   "pygments_lexer": "ipython3",
   "version": "3.7.12"
  },
  "papermill": {
   "default_parameters": {},
   "duration": 574.287648,
   "end_time": "2022-10-11T12:01:33.364315",
   "environment_variables": {},
   "exception": null,
   "input_path": "__notebook__.ipynb",
   "output_path": "__notebook__.ipynb",
   "parameters": {},
   "start_time": "2022-10-11T11:51:59.076667",
   "version": "2.3.4"
  }
 },
 "nbformat": 4,
 "nbformat_minor": 5
}
